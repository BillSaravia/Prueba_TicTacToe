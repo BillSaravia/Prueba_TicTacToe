{
  "nbformat": 4,
  "nbformat_minor": 0,
  "metadata": {
    "colab": {
      "provenance": []
    },
    "kernelspec": {
      "name": "python3",
      "display_name": "Python 3"
    },
    "language_info": {
      "name": "python"
    }
  },
  "cells": [
    {
      "cell_type": "code",
      "execution_count": 9,
      "metadata": {
        "colab": {
          "base_uri": "https://localhost:8080/"
        },
        "id": "P8i2TyB0isnY",
        "outputId": "caee2089-92d8-4f7f-fa1d-e23f231de8af"
      },
      "outputs": [
        {
          "output_type": "stream",
          "name": "stdout",
          "text": [
            "[[0 0 0]\n",
            " [0 0 0]\n",
            " [0 0 0]]\n"
          ]
        }
      ],
      "source": [
        "# importamos todo las liberrias necesarios para el projecto\n",
        "\n",
        "import numpy as np\n",
        "import random\n",
        "from time import sleep\n",
        "\n",
        "# creacion de un tablero vacio de tic-tac-toe\n",
        "\n",
        "def empty_board():\n",
        "    board = np.array([\n",
        "        [0, 0, 0],\n",
        "        [0, 0, 0],\n",
        "        [0, 0, 0]])\n",
        "    return (board)\n",
        "\n",
        "print(empty_board())"
      ]
    },
    {
      "cell_type": "code",
      "source": [
        "# verificamos los espacios vacios de el tablero de tic tac toe\n",
        "\n",
        "def empty_places(board):\n",
        "    l = []\n",
        "\n",
        "    for i in range(len(board)):\n",
        "        for j in range(len(board)):\n",
        "            if board[i][j] == 0:\n",
        "                l.append((i, j))\n",
        "    return l\n",
        "\n",
        "board = np.array([\n",
        "    [1, 2, 1],\n",
        "    [0, 0, 0],\n",
        "    [1, 1, 2]])\n",
        "\n",
        "#print(empty_places(board))\n",
        "\n",
        "#Seleccionamos un espacios random para el tablero de los jugadores de tic tac toe\n",
        "\n",
        "def random_place(board, player):\n",
        "    select = empty_places(board)\n",
        "    current_location = random.choice(select)\n",
        "    board[current_location] = player\n",
        "    return board\n",
        "\n",
        "print(random_place(board, 2))"
      ],
      "metadata": {
        "colab": {
          "base_uri": "https://localhost:8080/"
        },
        "id": "FaHgBlbnt7Nq",
        "outputId": "2d694ce7-5627-43a4-b112-744fa6cc4c67"
      },
      "execution_count": 10,
      "outputs": [
        {
          "output_type": "stream",
          "name": "stdout",
          "text": [
            "[[1 2 1]\n",
            " [0 0 2]\n",
            " [1 1 2]]\n"
          ]
        }
      ]
    },
    {
      "cell_type": "code",
      "source": [
        "#veriificamos las filas horizontales del ganador\n",
        "\n",
        "def row_winner(board, player):\n",
        "  for x in range(len(board)):\n",
        "    win = True\n",
        "\n",
        "    for y in range(len(board)):\n",
        "      if board[x, y] != player:\n",
        "        win = False\n",
        "        continue\n",
        "\n",
        "    if win == True:\n",
        "      return (win)\n",
        "  return (win)\n",
        "\n",
        "board = np.array([\n",
        "                  [0,0,0],\n",
        "                  [0,0,0],\n",
        "                  [1,1,1]\n",
        "])\n",
        "\n",
        "print(row_winner(board, 1))"
      ],
      "metadata": {
        "colab": {
          "base_uri": "https://localhost:8080/"
        },
        "id": "vyr9TluBw-1S",
        "outputId": "0fa28af6-9983-47d4-c319-7b3231c8167b"
      },
      "execution_count": 16,
      "outputs": [
        {
          "output_type": "stream",
          "name": "stdout",
          "text": [
            "True\n"
          ]
        }
      ]
    },
    {
      "cell_type": "code",
      "source": [],
      "metadata": {
        "id": "H-pfGjc-ERhb"
      },
      "execution_count": null,
      "outputs": []
    },
    {
      "cell_type": "code",
      "source": [
        "#veriificamos las filas horizontales del ganador\n",
        "\n",
        "def col_winner(board, player):\n",
        "  for x in range(len(board)):\n",
        "    win = True\n",
        "\n",
        "    for y in range(len(board)):\n",
        "      if board[y][x] != player:\n",
        "        win = False\n",
        "        continue\n",
        "\n",
        "    if win == True:\n",
        "      return (win)\n",
        "  return (win)\n",
        "\n",
        "board = np.array([\n",
        "                  [0,0,0],\n",
        "                  [0,0,0],\n",
        "                  [1,1,1]\n",
        "])\n",
        "\n",
        "print(col_winner(board, 1))"
      ],
      "metadata": {
        "colab": {
          "base_uri": "https://localhost:8080/"
        },
        "outputId": "cd919111-478f-41ec-8b80-9276fbc8fe62",
        "id": "FnQkYIluER-l"
      },
      "execution_count": null,
      "outputs": [
        {
          "output_type": "stream",
          "name": "stdout",
          "text": [
            "True\n"
          ]
        }
      ]
    },
    {
      "cell_type": "code",
      "source": [
        "#veriificamos las filas horizontales del ganador\n",
        "\n",
        "def diag_winner(board, player):\n",
        "  for x in range(len(board)):\n",
        "    win = True\n",
        "    y = 0\n",
        "\n",
        "    for x in range(len(board)):\n",
        "      if board[x, x] != player:\n",
        "        win = False\n",
        "\n",
        "    if win:\n",
        "      return (win)\n",
        "\n",
        "    win = True\n",
        "    if win:\n",
        "      for x in range(len(board)):\n",
        "        y = len(board) - 1 - x\n",
        "        if board[x, y] != player:\n",
        "          win = False\n",
        "\n",
        "\n",
        "    return (win)\n",
        "\n",
        "board = np.array([\n",
        "                  [1,0,0],\n",
        "                  [0,1,0],\n",
        "                  [0,0,1]\n",
        "])\n",
        "\n",
        "print(diag_winner(board, 1))"
      ],
      "metadata": {
        "colab": {
          "base_uri": "https://localhost:8080/"
        },
        "id": "KZMeyXBQjqp9",
        "outputId": "c9e6fe11-fa87-4970-96d6-4feef6c8609e"
      },
      "execution_count": 14,
      "outputs": [
        {
          "output_type": "stream",
          "name": "stdout",
          "text": [
            "True\n"
          ]
        }
      ]
    },
    {
      "cell_type": "code",
      "source": [
        "# Evaluates whether there is a winner or a Tie\n",
        "\n",
        "\n",
        "def evaluate_game(board):\n",
        "  # Winner [ 0 = indecisive; 1 = Player 1 ; 2 = Player 2; -1 = Tie]\n",
        "  winner = 0\n",
        "  for player in [1, 2]:\n",
        "    if (row_winner(board, player) or\n",
        "          col_winner(board, player) or\n",
        "          diag_winner(board, player)):\n",
        "\n",
        "      winner = player\n",
        "\n",
        "  if np.all(board != 0) and winner == 0:\n",
        "    winner = -1\n",
        "  return winner"
      ],
      "metadata": {
        "id": "s2XQHGniCwPj"
      },
      "execution_count": 18,
      "outputs": []
    },
    {
      "cell_type": "code",
      "source": [
        "def tic_tac_toe():\n",
        "  board = empty_board()\n",
        "  winner = 0\n",
        "  counter = 1\n",
        "  print(board)\n",
        "  sleep(5)\n",
        "\n",
        "  while winner == 0:\n",
        "    for player in [1, 2]:\n",
        "      brd = random_place(board, player)\n",
        "      print(\"Board after \" + str(counter) + \" move\")\n",
        "      print(brd)\n",
        "      sleep(2)\n",
        "      counter += 1\n",
        "      winner = evaluate_game(brd)\n",
        "\n",
        "      if winner != 0:\n",
        "        break\n",
        "  return winner\n",
        "\n",
        "\n",
        "print(\"Winner is player: \" +str(tic_tac_toe()))"
      ],
      "metadata": {
        "colab": {
          "base_uri": "https://localhost:8080/"
        },
        "id": "1AEcdi_xEr3T",
        "outputId": "295eb202-9a44-4e66-f81e-631be250033b"
      },
      "execution_count": 23,
      "outputs": [
        {
          "output_type": "stream",
          "name": "stdout",
          "text": [
            "[[0 0 0]\n",
            " [0 0 0]\n",
            " [0 0 0]]\n",
            "Board after 1 move\n",
            "[[0 0 0]\n",
            " [0 0 0]\n",
            " [0 0 1]]\n",
            "Board after 2 move\n",
            "[[0 0 0]\n",
            " [0 2 0]\n",
            " [0 0 1]]\n",
            "Board after 3 move\n",
            "[[0 1 0]\n",
            " [0 2 0]\n",
            " [0 0 1]]\n",
            "Board after 4 move\n",
            "[[0 1 0]\n",
            " [0 2 0]\n",
            " [2 0 1]]\n",
            "Board after 5 move\n",
            "[[0 1 0]\n",
            " [0 2 0]\n",
            " [2 1 1]]\n",
            "Board after 6 move\n",
            "[[0 1 0]\n",
            " [2 2 0]\n",
            " [2 1 1]]\n",
            "Board after 7 move\n",
            "[[0 1 1]\n",
            " [2 2 0]\n",
            " [2 1 1]]\n",
            "Board after 8 move\n",
            "[[2 1 1]\n",
            " [2 2 0]\n",
            " [2 1 1]]\n",
            "Board after 9 move\n",
            "[[2 1 1]\n",
            " [2 2 1]\n",
            " [2 1 1]]\n",
            "Winner is player: -1\n"
          ]
        }
      ]
    }
  ]
}